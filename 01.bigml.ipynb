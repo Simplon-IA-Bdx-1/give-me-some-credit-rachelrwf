{
 "cells": [
  {
   "cell_type": "markdown",
   "metadata": {},
   "source": [
    "# Etape 1 : Les Features"
   ]
  },
  {
   "cell_type": "markdown",
   "metadata": {},
   "source": [
    "<font color='grey'>Imports dont on a besoin pour cet exercice :</font>"
   ]
  },
  {
   "cell_type": "code",
   "execution_count": 8,
   "metadata": {
    "ExecuteTime": {
     "end_time": "2020-01-05T22:45:06.696722Z",
     "start_time": "2020-01-05T22:45:06.690724Z"
    }
   },
   "outputs": [],
   "source": [
    "from bigml.api import BigML\n",
    "from pandas import read_csv\n",
    "import matplotlib.pyplot as plt\n",
    "import pandas as pd\n",
    "from sklearn.metrics import roc_curve, auc, roc_auc_score"
   ]
  },
  {
   "cell_type": "markdown",
   "metadata": {},
   "source": [
    "<font color='grey'>Charger vos identifiants kaggle et bigml :</font>"
   ]
  },
  {
   "cell_type": "code",
   "execution_count": 9,
   "metadata": {
    "ExecuteTime": {
     "end_time": "2020-01-05T22:45:08.023722Z",
     "start_time": "2020-01-05T22:45:08.016722Z"
    }
   },
   "outputs": [],
   "source": [
    "%load_ext dotenv\n",
    "%dotenv"
   ]
  },
  {
   "cell_type": "markdown",
   "metadata": {},
   "source": [
    "<font color='grey'>Importer les fichiers *\"fulltrain\"* et *\"test\"* de Kaggle :</font>"
   ]
  },
  {
   "cell_type": "code",
   "execution_count": 10,
   "metadata": {
    "ExecuteTime": {
     "end_time": "2020-01-05T22:45:16.146717Z",
     "start_time": "2020-01-05T22:45:08.963720Z"
    }
   },
   "outputs": [],
   "source": [
    "fulltrain = read_csv('https://oml-data.s3.amazonaws.com/kaggle-give-me-credit-train.csv', index_col=0)\n",
    "test = read_csv('https://oml-data.s3.amazonaws.com/kaggle-give-me-credit-test.csv', index_col=0)"
   ]
  },
  {
   "cell_type": "markdown",
   "metadata": {},
   "source": [
    "<font color='grey'>Indiquer le \"project key\" présent de BigML (il faut avoir créer au préalable un projet)</font>"
   ]
  },
  {
   "cell_type": "code",
   "execution_count": 11,
   "metadata": {
    "ExecuteTime": {
     "end_time": "2020-01-05T22:45:17.579724Z",
     "start_time": "2020-01-05T22:45:17.573724Z"
    }
   },
   "outputs": [],
   "source": [
    "api= BigML (project='project/5d94a42b42129f2e6200010e')"
   ]
  },
  {
   "cell_type": "markdown",
   "metadata": {},
   "source": [
    "<font color='grey'>Ajouter des features aux datasets \"fulltrain\" et \"test\" de Kaggle :</font>"
   ]
  },
  {
   "cell_type": "code",
   "execution_count": 5,
   "metadata": {
    "ExecuteTime": {
     "end_time": "2020-01-05T21:47:17.499153Z",
     "start_time": "2020-01-05T21:47:17.492151Z"
    }
   },
   "outputs": [],
   "source": [
    "def features_credit(df):\n",
    "    df.fillna(0,inplace=True)\n",
    "    df['IncomePerPerson'] = df['MonthlyIncome'] / ( df['NumberOfDependents'] + 1 )\n",
    "    df.loc[df.age > 80, 'isOld'] = '1' \n",
    "    df.loc[df.age <= 80, 'isOld'] = '0'\n",
    "    df['MonthlyDebt'] = df['MonthlyIncome'] * df['DebtRatio']\n",
    "    df['MonthlyBalance'] = df['MonthlyIncome'] - df['MonthlyDebt']\n",
    "    df['DebtPerPerson'] = df['MonthlyDebt'] / ( df['NumberOfDependents'] + 1 )\n",
    "    df['BalancePerPerson'] = df['MonthlyBalance'] / ( df['NumberOfDependents'] + 1 )\n",
    "    df['NumberOfTime30-89DaysPastDueNotWorse'] = df['NumberOfTime30-59DaysPastDueNotWorse'] + df['NumberOfTime60-89DaysPastDueNotWorse']\n",
    "    df['NumbersOfOpen-NumberRealEstate'] = df['NumberOfOpenCreditLinesAndLoans'] - df['NumberRealEstateLoansOrLines']\n",
    "    return df\n"
   ]
  },
  {
   "cell_type": "code",
   "execution_count": 6,
   "metadata": {
    "ExecuteTime": {
     "end_time": "2020-01-05T21:47:19.514148Z",
     "start_time": "2020-01-05T21:47:19.367152Z"
    }
   },
   "outputs": [],
   "source": [
    "data_sets = fulltrain, test\n",
    "\n",
    "for df in data_sets :\n",
    "    features_credit(df)"
   ]
  },
  {
   "cell_type": "markdown",
   "metadata": {},
   "source": [
    "<font color='grey'>Faire un ***list(dataframe)*** pour s'assurer que les features ont bien été ajoutés :</font>"
   ]
  },
  {
   "cell_type": "code",
   "execution_count": 7,
   "metadata": {
    "ExecuteTime": {
     "end_time": "2020-01-05T21:47:28.102152Z",
     "start_time": "2020-01-05T21:47:28.093152Z"
    }
   },
   "outputs": [
    {
     "data": {
      "text/plain": [
       "['RevolvingUtilizationOfUnsecuredLines',\n",
       " 'age',\n",
       " 'NumberOfTime30-59DaysPastDueNotWorse',\n",
       " 'DebtRatio',\n",
       " 'MonthlyIncome',\n",
       " 'NumberOfOpenCreditLinesAndLoans',\n",
       " 'NumberOfTimes90DaysLate',\n",
       " 'NumberRealEstateLoansOrLines',\n",
       " 'NumberOfTime60-89DaysPastDueNotWorse',\n",
       " 'NumberOfDependents',\n",
       " 'SeriousDlqin2yrs',\n",
       " 'IncomePerPerson',\n",
       " 'isOld',\n",
       " 'MonthlyDebt',\n",
       " 'MonthlyBalance',\n",
       " 'DebtPerPerson',\n",
       " 'BalancePerPerson',\n",
       " 'NumberOfTime30-89DaysPastDueNotWorse',\n",
       " 'NumbersOfOpen-NumberRealEstate']"
      ]
     },
     "execution_count": 7,
     "metadata": {},
     "output_type": "execute_result"
    }
   ],
   "source": [
    "list(fulltrain)"
   ]
  },
  {
   "cell_type": "code",
   "execution_count": 6,
   "metadata": {
    "scrolled": false
   },
   "outputs": [
    {
     "data": {
      "text/plain": [
       "['SeriousDlqin2yrs',\n",
       " 'RevolvingUtilizationOfUnsecuredLines',\n",
       " 'age',\n",
       " 'NumberOfTime30-59DaysPastDueNotWorse',\n",
       " 'DebtRatio',\n",
       " 'MonthlyIncome',\n",
       " 'NumberOfOpenCreditLinesAndLoans',\n",
       " 'NumberOfTimes90DaysLate',\n",
       " 'NumberRealEstateLoansOrLines',\n",
       " 'NumberOfTime60-89DaysPastDueNotWorse',\n",
       " 'NumberOfDependents',\n",
       " 'IncomePerPerson',\n",
       " 'isOld',\n",
       " 'MonthlyDebt',\n",
       " 'MonthlyBalance',\n",
       " 'DebtPerPerson',\n",
       " 'BalancePerPerson',\n",
       " 'NumberOfTime30-89DaysPastDueNotWorse',\n",
       " 'NumbersOfOpen-NumberRealEstate']"
      ]
     },
     "execution_count": 6,
     "metadata": {},
     "output_type": "execute_result"
    }
   ],
   "source": [
    "list(test)"
   ]
  },
  {
   "cell_type": "markdown",
   "metadata": {},
   "source": [
    "<font color='grey'>- Le trainfull modifié va nous servir à faire le split et sera notre base de travail (créer le modèle et l'entrainer).</font><br>\n",
    "<font color='grey'> - Le test modifé est le fichier qu'on va modifier afin de le soumettre à Kaggle.</font><br><br>\n",
    "<font color='grey'>Exporter les fichiers modifiés en csv :</font>\n"
   ]
  },
  {
   "cell_type": "code",
   "execution_count": null,
   "metadata": {},
   "outputs": [],
   "source": [
    "export_fulltrain_csv = fulltrain.to_csv ('data/fulltrain_dataframe.csv', header=True)\n",
    "export_test_csv = test.to_csv ('data/test_dataframe.csv', header=True)"
   ]
  },
  {
   "cell_type": "markdown",
   "metadata": {},
   "source": [
    "# Etape 2: Le Split"
   ]
  },
  {
   "cell_type": "markdown",
   "metadata": {},
   "source": [
    "<font color='grey'>Effectuer le split sur le fichier trainfull modifié qu'on vient d'exporter en csv *(fulltrain_dataframe.csv)* :</font>"
   ]
  },
  {
   "cell_type": "markdown",
   "metadata": {},
   "source": [
    "<font color='grey'>Créer la source *(ici fulltrain_dataframe.csv)*:</font>"
   ]
  },
  {
   "cell_type": "code",
   "execution_count": null,
   "metadata": {},
   "outputs": [],
   "source": [
    "source = api.create_source('fulltrain_dataframe.csv')\n",
    "api.ok(source)"
   ]
  },
  {
   "cell_type": "markdown",
   "metadata": {},
   "source": [
    "<font color='grey'>Créer le dataset à partir de la source :</font>"
   ]
  },
  {
   "cell_type": "code",
   "execution_count": null,
   "metadata": {},
   "outputs": [],
   "source": [
    "fulltrain_dataset = api.create_dataset(source)\n",
    "api.ok(fulltrain_dataset)"
   ]
  },
  {
   "cell_type": "markdown",
   "metadata": {},
   "source": [
    "<font color='grey'>Réaliser le split 80/20 :<br>\n",
    "**attention de bien indiquer le seed sinon le split se fera de façon aléatoire à chaque fois** </font>"
   ]
  },
  {
   "cell_type": "code",
   "execution_count": null,
   "metadata": {},
   "outputs": [],
   "source": [
    "train80 = api.create_dataset(\n",
    "    fulltrain_dataset, {\"name\": \"train80 | TrainFull | Training\",\n",
    "                     \"sample_rate\": 0.8, \"seed\": \"my seed\"})\n",
    "valid20 = api.create_dataset(\n",
    "    fulltrain_dataset, {\"name\": \"valid20 | TrainFull | Test\",\n",
    "                     \"sample_rate\": 0.8, \"seed\": \"my seed\",\n",
    "                     \"out_of_bag\": True})"
   ]
  },
  {
   "cell_type": "code",
   "execution_count": null,
   "metadata": {},
   "outputs": [],
   "source": [
    "api.ok(train80)"
   ]
  },
  {
   "cell_type": "code",
   "execution_count": null,
   "metadata": {},
   "outputs": [],
   "source": [
    "api.ok(valid20)"
   ]
  },
  {
   "cell_type": "markdown",
   "metadata": {},
   "source": [
    "<font color='grey'>On peut exporter les datasets train80 et valid20 en csv :<br>"
   ]
  },
  {
   "cell_type": "code",
   "execution_count": null,
   "metadata": {},
   "outputs": [],
   "source": [
    "api.download_dataset(train80,\n",
    "    filename='data/train80.csv')"
   ]
  },
  {
   "cell_type": "code",
   "execution_count": null,
   "metadata": {},
   "outputs": [],
   "source": [
    "api.download_dataset(valid20,\n",
    "    filename='data/valid20.csv')"
   ]
  },
  {
   "cell_type": "markdown",
   "metadata": {},
   "source": [
    "# Etape 3 : Le Modèle"
   ]
  },
  {
   "cell_type": "markdown",
   "metadata": {},
   "source": [
    "<font color='grey'>Créer le modèle avec le dataset train80 en indiquant la *\"target variable\"*(= ce qu'on veut prédire) :<br>\n",
    "Ici le modèle choisi est **\"ensemble\"** :</font>"
   ]
  },
  {
   "cell_type": "code",
   "execution_count": null,
   "metadata": {},
   "outputs": [],
   "source": [
    "ensemble = api.create_ensemble(train80, {\"objective_field\":\"SeriousDlqin2yrs\"})\n",
    "api.ok(ensemble)"
   ]
  },
  {
   "cell_type": "markdown",
   "metadata": {},
   "source": [
    "<font color='grey'>Créer le batch prediction sur le val20 dataset:</font>"
   ]
  },
  {
   "cell_type": "code",
   "execution_count": null,
   "metadata": {},
   "outputs": [],
   "source": [
    "batch_prediction = api.create_batch_prediction(ensemble, valid20,{\"all_fields\": True, \"confidence\": True, \"probabilities\": True})\n",
    "api.ok(batch_prediction)"
   ]
  },
  {
   "cell_type": "markdown",
   "metadata": {},
   "source": [
    "Il nous faut faire le batch prediction sur le fichier test. Pour cela :"
   ]
  },
  {
   "cell_type": "markdown",
   "metadata": {
    "ExecuteTime": {
     "end_time": "2020-01-04T23:23:14.670797Z",
     "start_time": "2020-01-04T23:23:14.662798Z"
    }
   },
   "source": [
    "<font color='grey'>Créer une source pour le test set modifié :</font>"
   ]
  },
  {
   "cell_type": "code",
   "execution_count": null,
   "metadata": {},
   "outputs": [],
   "source": [
    "test_source = api.create_source('data/test_dataframe.csv')"
   ]
  },
  {
   "cell_type": "code",
   "execution_count": null,
   "metadata": {},
   "outputs": [],
   "source": [
    "api.ok(test_source)"
   ]
  },
  {
   "cell_type": "markdown",
   "metadata": {
    "ExecuteTime": {
     "end_time": "2020-01-04T23:27:33.822796Z",
     "start_time": "2020-01-04T23:27:33.814798Z"
    }
   },
   "source": [
    "<font color='grey'>Créer le dataset à partir de cette source :</font>"
   ]
  },
  {
   "cell_type": "code",
   "execution_count": null,
   "metadata": {},
   "outputs": [],
   "source": [
    "test_dataset = api.create_dataset(test_source)"
   ]
  },
  {
   "cell_type": "code",
   "execution_count": null,
   "metadata": {},
   "outputs": [],
   "source": [
    "api.ok(test_dataset)"
   ]
  },
  {
   "cell_type": "markdown",
   "metadata": {},
   "source": [
    "<font color='grey'>Evaluer le modèle créé sur le trainfull_dataset :</font>"
   ]
  },
  {
   "cell_type": "code",
   "execution_count": null,
   "metadata": {},
   "outputs": [],
   "source": [
    "evaluation = api.create_evaluation(ensemble, trainfull_dataset)\n",
    "api.ok(evaluation)"
   ]
  },
  {
   "cell_type": "markdown",
   "metadata": {},
   "source": [
    "<font color='grey'>Imprimer le résulat de l'évaluation :</font>"
   ]
  },
  {
   "cell_type": "code",
   "execution_count": null,
   "metadata": {},
   "outputs": [],
   "source": [
    "print(\"accuracy:\")\n",
    "api.pprint(evaluation['object']['result']['model']['accuracy'])\n",
    "print(\"auc:\")\n",
    "api.pprint(evaluation['object']['result']['model']['average_area_under_roc_curve'])\n",
    "print(\"f_measure:\")\n",
    "api.pprint(evaluation['object']['result']['model']['per_class_statistics'][0]['f_measure'])"
   ]
  },
  {
   "cell_type": "markdown",
   "metadata": {
    "ExecuteTime": {
     "end_time": "2020-01-05T13:45:07.314633Z",
     "start_time": "2020-01-05T13:45:07.305630Z"
    }
   },
   "source": [
    "<font color='grey'>Faire le batch prediction sur le dataset test :</font>"
   ]
  },
  {
   "cell_type": "code",
   "execution_count": null,
   "metadata": {},
   "outputs": [],
   "source": [
    "batch_prediction = api.create_batch_prediction(ensemble, test_dataset,{\"all_fields\": True, \"confidence\": True, \"probabilities\": True})\n",
    "api.ok(batch_prediction)"
   ]
  },
  {
   "cell_type": "markdown",
   "metadata": {},
   "source": [
    "<font color='grey'>Télécharger le batch prediction en fichier .csv afin de pouvoir le préparer pour le soumettre à Kaggle :</font>"
   ]
  },
  {
   "cell_type": "code",
   "execution_count": null,
   "metadata": {},
   "outputs": [],
   "source": [
    "api.download_batch_prediction(batch_prediction,\n",
    "    filename='data/prediction_credit_final.csv')"
   ]
  }
 ],
 "metadata": {
  "hide_input": false,
  "kernelspec": {
   "display_name": "Python 3",
   "language": "python",
   "name": "python3"
  },
  "language_info": {
   "codemirror_mode": {
    "name": "ipython",
    "version": 3
   },
   "file_extension": ".py",
   "mimetype": "text/x-python",
   "name": "python",
   "nbconvert_exporter": "python",
   "pygments_lexer": "ipython3",
   "version": "3.7.4"
  },
  "toc": {
   "base_numbering": 1,
   "nav_menu": {},
   "number_sections": true,
   "sideBar": true,
   "skip_h1_title": false,
   "title_cell": "Table of Contents",
   "title_sidebar": "Contents",
   "toc_cell": false,
   "toc_position": {},
   "toc_section_display": true,
   "toc_window_display": false
  },
  "varInspector": {
   "cols": {
    "lenName": 16,
    "lenType": 16,
    "lenVar": 40
   },
   "kernels_config": {
    "python": {
     "delete_cmd_postfix": "",
     "delete_cmd_prefix": "del ",
     "library": "var_list.py",
     "varRefreshCmd": "print(var_dic_list())"
    },
    "r": {
     "delete_cmd_postfix": ") ",
     "delete_cmd_prefix": "rm(",
     "library": "var_list.r",
     "varRefreshCmd": "cat(var_dic_list()) "
    }
   },
   "types_to_exclude": [
    "module",
    "function",
    "builtin_function_or_method",
    "instance",
    "_Feature"
   ],
   "window_display": false
  }
 },
 "nbformat": 4,
 "nbformat_minor": 2
}
