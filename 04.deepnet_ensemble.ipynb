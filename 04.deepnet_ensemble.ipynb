{
 "cells": [
  {
   "cell_type": "markdown",
   "metadata": {},
   "source": [
    "# BigML : Learning curves - deepnet vs ensemble"
   ]
  },
  {
   "cell_type": "markdown",
   "metadata": {},
   "source": [
    "<font color='grey'>Imports dont on a besoin pour cet exercice :</font>"
   ]
  },
  {
   "cell_type": "code",
   "execution_count": 1,
   "metadata": {
    "ExecuteTime": {
     "end_time": "2020-01-05T15:41:36.248794Z",
     "start_time": "2020-01-05T15:41:34.239797Z"
    }
   },
   "outputs": [],
   "source": [
    "from pandas import read_csv\n",
    "import matplotlib.pyplot as plt\n",
    "import pandas as pd\n",
    "from sklearn.metrics import roc_curve, auc, roc_auc_score\n",
    "from bigml.api import BigML"
   ]
  },
  {
   "cell_type": "markdown",
   "metadata": {},
   "source": [
    "## Chargement des ressources créées sur BigML"
   ]
  },
  {
   "cell_type": "markdown",
   "metadata": {},
   "source": [
    "<font color='grey'>Charger l'id du projet BIGML :</font>"
   ]
  },
  {
   "cell_type": "code",
   "execution_count": 3,
   "metadata": {
    "ExecuteTime": {
     "end_time": "2020-01-05T15:41:36.279795Z",
     "start_time": "2020-01-05T15:41:36.274795Z"
    }
   },
   "outputs": [],
   "source": [
    "api= BigML (project='project/5d94a42b42129f2e6200010e')"
   ]
  },
  {
   "cell_type": "markdown",
   "metadata": {},
   "source": [
    "<font color='grey'>Dans le notebook `bigml.ipynb`, nous avons créé une source à partir de ce lien ainsi que les datasets :trainfull, train80, val20. Nous allons les réutiliser ici pour créer les learning curves.</font>"
   ]
  },
  {
   "cell_type": "code",
   "execution_count": 4,
   "metadata": {
    "ExecuteTime": {
     "end_time": "2020-01-05T15:41:36.841790Z",
     "start_time": "2020-01-05T15:41:36.281793Z"
    }
   },
   "outputs": [],
   "source": [
    "trainfull = api.get_dataset(\"dataset/5dc2b889e47684746801366e\")"
   ]
  },
  {
   "cell_type": "code",
   "execution_count": 5,
   "metadata": {
    "ExecuteTime": {
     "end_time": "2020-01-05T15:41:37.363790Z",
     "start_time": "2020-01-05T15:41:36.844793Z"
    }
   },
   "outputs": [],
   "source": [
    "train80 = api.get_dataset(\"dataset/5dc2b8b8e476847468013686\")"
   ]
  },
  {
   "cell_type": "code",
   "execution_count": 6,
   "metadata": {
    "ExecuteTime": {
     "end_time": "2020-01-05T15:41:37.855791Z",
     "start_time": "2020-01-05T15:41:37.365793Z"
    }
   },
   "outputs": [],
   "source": [
    "val20 = api.get_dataset(\"dataset/5dc2b8b97811dd01370016b5\")"
   ]
  },
  {
   "cell_type": "code",
   "execution_count": 7,
   "metadata": {
    "ExecuteTime": {
     "end_time": "2020-01-05T15:41:38.367793Z",
     "start_time": "2020-01-05T15:41:37.858794Z"
    }
   },
   "outputs": [],
   "source": [
    "test = api.get_dataset(\"dataset/5dc2b910e4768473b60008ab\")"
   ]
  },
  {
   "cell_type": "markdown",
   "metadata": {},
   "source": [
    "## Créer les paliers pour les courbes"
   ]
  },
  {
   "cell_type": "markdown",
   "metadata": {},
   "source": [
    "<font color='grey'>Pour cela, créer des listes vides pour contenir l'abscisse (taille du dataset) et l'ordonnée (AUC) pour les modèles ensemble et deepnet :</font>"
   ]
  },
  {
   "cell_type": "code",
   "execution_count": 8,
   "metadata": {
    "ExecuteTime": {
     "end_time": "2020-01-05T15:41:38.376792Z",
     "start_time": "2020-01-05T15:41:38.370796Z"
    }
   },
   "outputs": [],
   "source": [
    "x_ensemble = []\n",
    "y_ensemble = []\n",
    "x_deepnet = []\n",
    "y_deepnet = []"
   ]
  },
  {
   "cell_type": "markdown",
   "metadata": {},
   "source": [
    "<font color='grey'>Ensuite créer une boucle pour les paliers (10%) du dataset train80, avec lequel on va créer les modèles ensemble et deepnet (*attention cette étape prends du temps*):</font>"
   ]
  },
  {
   "cell_type": "code",
   "execution_count": 9,
   "metadata": {
    "ExecuteTime": {
     "end_time": "2020-01-05T16:12:03.382441Z",
     "start_time": "2020-01-05T15:41:38.380805Z"
    },
    "scrolled": true
   },
   "outputs": [
    {
     "name": "stdout",
     "output_type": "stream",
     "text": [
      "[10, 20, 30, 40, 50, 60, 70, 80, 90, 100]\n",
      "[0.83277, 0.84416, 0.84964, 0.8513, 0.8532, 0.85438, 0.85592, 0.85407, 0.85535, 0.85467]\n",
      "[10, 20, 30, 40, 50, 60, 70, 80, 90, 100]\n",
      "[0.83471, 0.83905, 0.8445, 0.83827, 0.84363, 0.84348, 0.8365, 0.84388, 0.84436, 0.84441]\n"
     ]
    }
   ],
   "source": [
    "for i in range(1,11):\n",
    "    train_set = api.create_dataset(train80, {\"name\": \"Train Set \" + str(i/10), \"sample_rate\": i/10, \"seed\": \"my seed\"})\n",
    "    api.ok(train_set)\n",
    "\n",
    "    # ensemble\n",
    "    ensemble = api.create_ensemble(train_set, {\"objective_field\" : \"SeriousDlqin2yrs\", \"name\": \"Ensemble \" + str(i/10)})\n",
    "    api.ok(ensemble)\n",
    "\n",
    "    # Evaluastion sur ensemble\n",
    "    evaluation = api.create_evaluation(ensemble, val20)\n",
    "    api.ok(evaluation)\n",
    "\n",
    "    # deepnet\n",
    "    deepnet = api.create_deepnet(train_set, {\"objective_field\" : \"SeriousDlqin2yrs\", \"name\": \"Deepnet \" + str(i/10)})\n",
    "    api.ok(deepnet)\n",
    "\n",
    "    # Evaluation sur deepnet\n",
    "    evaluation_deepnet = api.create_evaluation(deepnet, val20)\n",
    "    api.ok(evaluation_deepnet)\n",
    "\n",
    "    x_ensemble.append(i*10)\n",
    "    y_ensemble.append(evaluation['object']['result']['model']['average_area_under_roc_curve'])\n",
    "\n",
    "    x_deepnet.append(i*10)\n",
    "    y_deepnet.append(evaluation_deepnet['object']['result']['model']['average_area_under_roc_curve'])\n",
    "\n",
    "    i += 1\n",
    "    \n",
    "print(x_ensemble)\n",
    "print(y_ensemble)\n",
    "print(x_deepnet)\n",
    "print(y_deepnet)"
   ]
  },
  {
   "cell_type": "markdown",
   "metadata": {},
   "source": [
    "## Créer le graphique "
   ]
  },
  {
   "cell_type": "markdown",
   "metadata": {},
   "source": [
    "<font color='grey'>Créer le graphique des learning curves :</font>"
   ]
  },
  {
   "cell_type": "code",
   "execution_count": 10,
   "metadata": {
    "ExecuteTime": {
     "end_time": "2020-01-05T16:12:03.714440Z",
     "start_time": "2020-01-05T16:12:03.385440Z"
    }
   },
   "outputs": [
    {
     "data": {
      "image/png": "[encoded data removed]",
      "text/plain": [
       "<Figure size 432x288 with 1 Axes>"
      ]
     },
     "metadata": {
      "needs_background": "light"
     },
     "output_type": "display_data"
    }
   ],
   "source": [
    "fig, ax = plt.subplots()\n",
    "ax.plot(x_ensemble, y_ensemble, label='Modèle Ensemble')\n",
    "ax.plot(x_deepnet, y_deepnet, label='Modèle Deepnet', color=\"g\")\n",
    "ax.set(xlabel='% du train_set', ylabel='AUC',  title='Learning Curve AUC / % Train Set')\n",
    "plt.legend(bbox_to_anchor=(1.2, 1), loc='best', borderaxespad=0.)\n",
    "ax.grid()\n",
    "plt.show()"
   ]
  }
 ],
 "metadata": {
  "hide_input": false,
  "kernelspec": {
   "display_name": "Python 3",
   "language": "python",
   "name": "python3"
  },
  "language_info": {
   "codemirror_mode": {
    "name": "ipython",
    "version": 3
   },
   "file_extension": ".py",
   "mimetype": "text/x-python",
   "name": "python",
   "nbconvert_exporter": "python",
   "pygments_lexer": "ipython3",
   "version": "3.7.3"
  },
  "toc": {
   "base_numbering": 1,
   "nav_menu": {},
   "number_sections": true,
   "sideBar": true,
   "skip_h1_title": true,
   "title_cell": "Table of Contents",
   "title_sidebar": "Contents",
   "toc_cell": false,
   "toc_position": {},
   "toc_section_display": true,
   "toc_window_display": false
  },
  "varInspector": {
   "cols": {
    "lenName": 16,
    "lenType": 16,
    "lenVar": 40
   },
   "kernels_config": {
    "python": {
     "delete_cmd_postfix": "",
     "delete_cmd_prefix": "del ",
     "library": "var_list.py",
     "varRefreshCmd": "print(var_dic_list())"
    },
    "r": {
     "delete_cmd_postfix": ") ",
     "delete_cmd_prefix": "rm(",
     "library": "var_list.r",
     "varRefreshCmd": "cat(var_dic_list()) "
    }
   },
   "types_to_exclude": [
    "module",
    "function",
    "builtin_function_or_method",
    "instance",
    "_Feature"
   ],
   "window_display": false
  }
 },
 "nbformat": 4,
 "nbformat_minor": 2
}
